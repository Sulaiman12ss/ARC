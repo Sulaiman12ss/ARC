{
 "cells": [
  {
   "cell_type": "code",
   "execution_count": 19,
   "metadata": {},
   "outputs": [],
   "source": [
    "# from transformers import BertConfig, BertForMaskedLM, BertTokenizer\n",
    "# from transformers import PreTrainedTokenizer\n",
    "# from transformers import get_linear_schedule_with_warmup\n",
    "# import torch\n",
    "# from torch.utils.data import Dataset, DataLoader\n",
    "# from torch.utils.data import random_split\n",
    "# from torch.nn.functional import pad\n",
    "# from datasets import load_dataset\n",
    "from tqdm.auto import tqdm\n",
    "# from itertools import cycle\n",
    "# import wandb\n",
    "\n",
    "\n",
    "# device = torch.device(\"cuda:0\" if torch.cuda.is_available() else \"cpu\")\n",
    "# device"
   ]
  },
  {
   "cell_type": "code",
   "execution_count": 20,
   "metadata": {},
   "outputs": [],
   "source": [
    "import copy\n",
    "from collections import defaultdict\n",
    "\n",
    "# import pandas as pd\n",
    "import numpy as np\n",
    "\n",
    "# import matplotlib.pyplot as plt\n",
    "# from   matplotlib import colors\n",
    "# import seaborn as sns\n",
    "\n",
    "import json\n",
    "import os\n",
    "from pathlib import Path\n",
    "from glob import glob\n",
    "import gc\n",
    "import pickle\n",
    "import sys\n",
    "\n",
    "# from subprocess import Popen, PIPE, STDOUT"
   ]
  },
  {
   "cell_type": "markdown",
   "metadata": {},
   "source": [
    "# re-arc data"
   ]
  },
  {
   "cell_type": "code",
   "execution_count": 21,
   "metadata": {},
   "outputs": [],
   "source": [
    "sys.path.append('re-arc')\n",
    "from main import get_generators\n",
    "\n",
    "\n",
    "all_generators_map = get_generators()"
   ]
  },
  {
   "cell_type": "code",
   "execution_count": 22,
   "metadata": {},
   "outputs": [],
   "source": [
    "def generate(n_samples=1_000_000, n_train_boards_per_sample=3, ub=1.0):\n",
    "    n_tasks = len(all_generators_map)\n",
    "    assert n_samples % n_tasks == 0\n",
    "    n_samples_per_task = n_samples // n_tasks\n",
    "\n",
    "    # max_board_numel = 100\n",
    "\n",
    "    # def is_exceed_sample(sample):\n",
    "    #     return (\n",
    "    #         np.size(sample['input']) > max_board_numel\n",
    "    #         or\n",
    "    #         np.size(sample['output']) > max_board_numel\n",
    "    #     )\n",
    "\n",
    "    # def is_exceed_task(task):\n",
    "    #     is_exceed_train = any(map(is_exceed_sample, task['train']))\n",
    "    #     is_exceed_test = any(map(is_exceed_sample, task['test']))\n",
    "    #     return is_exceed_train or is_exceed_test\n",
    "\n",
    "    def convert_board_tolist(board):\n",
    "        return np.asarray(board).tolist()\n",
    "\n",
    "    def convert_task_sample_tolist(task_sample):\n",
    "        task_sample['input'] = convert_board_tolist(task_sample['input'])\n",
    "        task_sample['output'] = convert_board_tolist(task_sample['output'])\n",
    "        return task_sample\n",
    "\n",
    "    def convert_datasample_tolist(datasample):\n",
    "        for i, train_task_sample in enumerate(datasample['train']):\n",
    "            train_task_sample = convert_task_sample_tolist(train_task_sample)\n",
    "            datasample['train'][i] = train_task_sample\n",
    "\n",
    "        for i, test_task_sample in enumerate(datasample['test']):\n",
    "            test_task_sample = convert_task_sample_tolist(test_task_sample)\n",
    "            datasample['test'][i] = test_task_sample\n",
    "\n",
    "        return datasample\n",
    "\n",
    "    data = dict()\n",
    "\n",
    "    all_keys = list(all_generators_map.keys())\n",
    "\n",
    "    for i, task_key in enumerate(tqdm(all_keys, desc='tasks'), start=1):\n",
    "        task_generator = all_generators_map[task_key]\n",
    "\n",
    "        samples = []\n",
    "\n",
    "        # pbar = tqdm(total=n_samples_per_task, desc='task %d/%d' % (i, n_tasks), leave=False)\n",
    "        while True:\n",
    "            sampled = []\n",
    "            while True:\n",
    "                try:\n",
    "                    one_sample = task_generator(0, ub)\n",
    "                except IndexError:\n",
    "                    continue\n",
    "                else:\n",
    "                    sampled.append(one_sample)\n",
    "\n",
    "                if len(sampled) >= n_train_boards_per_sample + 1:\n",
    "                    break\n",
    "\n",
    "            train_samples = sampled[:n_train_boards_per_sample]\n",
    "            test_samples = sampled[-1:]\n",
    "            sample = {\n",
    "                'train': train_samples,\n",
    "                'test': test_samples,\n",
    "            }\n",
    "\n",
    "            sample = convert_datasample_tolist(sample)\n",
    "\n",
    "            # if is_exceed_task(sample):\n",
    "            #     continue\n",
    "\n",
    "            # pbar.update(1)\n",
    "            samples.append(sample)\n",
    "\n",
    "            if len(samples) >= n_samples_per_task:\n",
    "                break\n",
    "                # pbar.close()\n",
    "\n",
    "        data[task_key] = samples\n",
    "\n",
    "    return data"
   ]
  },
  {
   "cell_type": "code",
   "execution_count": null,
   "metadata": {},
   "outputs": [],
   "source": [
    "data = generate(ub=0.05)"
   ]
  },
  {
   "cell_type": "code",
   "execution_count": 6,
   "metadata": {},
   "outputs": [],
   "source": [
    "# with open('data/rearc1M.json', 'w') as f:\n",
    "#     json.dump(data, f, indent=2)"
   ]
  },
  {
   "cell_type": "code",
   "execution_count": 7,
   "metadata": {},
   "outputs": [],
   "source": [
    "with open('data/rearc1M.pkl', 'wb') as f:   \n",
    "    pickle.dump(data, f, protocol=pickle.HIGHEST_PROTOCOL)"
   ]
  },
  {
   "cell_type": "code",
   "execution_count": null,
   "metadata": {},
   "outputs": [],
   "source": [
    "! ls data -l"
   ]
  },
  {
   "cell_type": "code",
   "execution_count": 14,
   "metadata": {},
   "outputs": [],
   "source": [
    "import pickle\n",
    "\n",
    "with open('data/rearc1M.pkl', 'rb') as f:\n",
    "    other_data = pickle.load(f)"
   ]
  },
  {
   "cell_type": "code",
   "execution_count": null,
   "metadata": {},
   "outputs": [],
   "source": [
    "len(other_data)"
   ]
  },
  {
   "cell_type": "code",
   "execution_count": 8,
   "metadata": {},
   "outputs": [],
   "source": [
    "# next(iter(data['007bbfb7'][0].values()))['train'][0]['input']"
   ]
  },
  {
   "cell_type": "code",
   "execution_count": 9,
   "metadata": {},
   "outputs": [],
   "source": [
    "# i = 392\n",
    "# all_keys = list(all_generators_map.keys())\n",
    "# g = all_generators_map[all_keys[i]]\n",
    "# np.size(g(0, 0.05)['input']), np.size(g(0, 0.1)['output'])"
   ]
  }
 ],
 "metadata": {
  "kernelspec": {
   "display_name": "Python 3",
   "language": "python",
   "name": "python3"
  },
  "language_info": {
   "codemirror_mode": {
    "name": "ipython",
    "version": 3
   },
   "file_extension": ".py",
   "mimetype": "text/x-python",
   "name": "python",
   "nbconvert_exporter": "python",
   "pygments_lexer": "ipython3",
   "version": "3.8.10"
  }
 },
 "nbformat": 4,
 "nbformat_minor": 2
}
