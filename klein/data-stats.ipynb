{
 "cells": [
  {
   "cell_type": "code",
   "execution_count": 1,
   "metadata": {},
   "outputs": [],
   "source": [
    "import copy\n",
    "from collections import defaultdict, Counter\n",
    "import json\n",
    "import pickle\n",
    "\n",
    "import numpy as np\n",
    "import matplotlib.pyplot as plt\n",
    "import torch"
   ]
  },
  {
   "cell_type": "markdown",
   "metadata": {},
   "source": [
    "# arc train/val datasets"
   ]
  },
  {
   "cell_type": "code",
   "execution_count": 2,
   "metadata": {},
   "outputs": [],
   "source": [
    "base_path='./data/'\n",
    "def load_json(file_path):\n",
    "    with open(file_path) as f:\n",
    "        data = json.load(f)\n",
    "    return data"
   ]
  },
  {
   "cell_type": "code",
   "execution_count": 3,
   "metadata": {},
   "outputs": [],
   "source": [
    "training_challenges   = load_json(base_path + 'arc-agi_training_challenges.json')\n",
    "training_solutions    = load_json(base_path + 'arc-agi_training_solutions.json')\n",
    "\n",
    "evaluation_challenges = load_json(base_path + 'arc-agi_evaluation_challenges.json')\n",
    "evaluation_solutions  = load_json(base_path + 'arc-agi_evaluation_solutions.json')\n",
    "\n",
    "# test_challenges       = load_json(base_path + 'arc-agi_test_challenges.json')"
   ]
  },
  {
   "cell_type": "code",
   "execution_count": 4,
   "metadata": {},
   "outputs": [
    {
     "name": "stdout",
     "output_type": "stream",
     "text": [
      "num train tasks: 400\n",
      "num val tasks: 400\n"
     ]
    }
   ],
   "source": [
    "def merge_challenges_with_solutions(challenges, solutions):\n",
    "    merge = copy.deepcopy(challenges)\n",
    "    for key, task in challenges.items():\n",
    "        merge[key]['test'] = []\n",
    "        test_inputs = task['test']\n",
    "        test_outputs = solutions[key]\n",
    "        for input, output in zip(test_inputs, test_outputs):\n",
    "            merge[key]['test'].append(\n",
    "                {\n",
    "                    'input': input['input'],\n",
    "                    'output': output,\n",
    "                }\n",
    "            )\n",
    "    return merge\n",
    "\n",
    "\n",
    "train_tasks = merge_challenges_with_solutions(training_challenges, training_solutions)\n",
    "val_tasks = merge_challenges_with_solutions(evaluation_challenges, evaluation_solutions)\n",
    "# test_tasks = test_challenges\n",
    "\n",
    "print('num train tasks:', len(train_tasks))\n",
    "print('num val tasks:', len(val_tasks))\n",
    "# print('num test tasks:', len(test_tasks))"
   ]
  },
  {
   "cell_type": "code",
   "execution_count": 5,
   "metadata": {},
   "outputs": [
    {
     "name": "stdout",
     "output_type": "stream",
     "text": [
      "num train tasks before filtering: 400\n",
      "num train tasks after filtering: 145\n",
      "num val tasks before filtering: 400\n",
      "num val tasks after filtering: 103\n"
     ]
    }
   ],
   "source": [
    "def filter_by_board_size(tasks, max_numel=100):\n",
    "    filtered_tasks = defaultdict(dict)\n",
    "    for key, task in tasks.items():\n",
    "        valid_train_task_ids = []\n",
    "        for i, sample in enumerate(task['train']):\n",
    "            if np.size(sample['input']) > max_numel:\n",
    "                continue\n",
    "            else:\n",
    "                valid_train_task_ids.append(i)\n",
    "        if not valid_train_task_ids:\n",
    "            continue\n",
    "\n",
    "        filtered_tasks[key]['train'] = [task['train'][valid_id] for valid_id in valid_train_task_ids]\n",
    "        filtered_tasks[key]['test'] = copy.deepcopy(task['test'])\n",
    "\n",
    "    return dict(filtered_tasks)\n",
    "\n",
    "\n",
    "small_train_tasks = filter_by_board_size(train_tasks, max_numel=50)\n",
    "small_val_tasks = filter_by_board_size(val_tasks, max_numel=50)\n",
    "\n",
    "print('num train tasks before filtering:', len(train_tasks))\n",
    "print('num train tasks after filtering:', len(small_train_tasks))\n",
    "print('num val tasks before filtering:', len(val_tasks))\n",
    "print('num val tasks after filtering:', len(small_val_tasks))"
   ]
  },
  {
   "cell_type": "code",
   "execution_count": 6,
   "metadata": {},
   "outputs": [
    {
     "name": "stdout",
     "output_type": "stream",
     "text": [
      "train     \t{0: 313}, {1: 171}, {2: 193}, {3: 165}, {4: 150}, {5: 95}, {6: 87}, {7: 62}, {8: 160}, {9: 44}\n",
      "small_train\t{0: 109}, {1: 51}, {2: 56}, {3: 58}, {4: 46}, {5: 35}, {6: 33}, {7: 24}, {8: 47}, {9: 16}\n",
      "val       \t{0: 322}, {1: 203}, {2: 240}, {3: 198}, {4: 171}, {5: 109}, {6: 127}, {7: 97}, {8: 202}, {9: 51}\n",
      "small_val \t{0: 85}, {1: 39}, {2: 50}, {3: 38}, {4: 33}, {5: 26}, {6: 30}, {7: 21}, {8: 34}, {9: 12}\n"
     ]
    }
   ],
   "source": [
    "def _flatten_board(board):\n",
    "    flat_board = [pixel for row in board for pixel in row]\n",
    "    return flat_board\n",
    "\n",
    "\n",
    "def get_color_stats(tasks):\n",
    "    c = Counter()\n",
    "    for task_key, task_samples in tasks.items():\n",
    "        c.update(set(_flatten_board(task_samples['test'][0]['output'])))\n",
    "    return c\n",
    "\n",
    "\n",
    "color_stats = {\n",
    "    'train': get_color_stats(train_tasks),\n",
    "    'small_train': get_color_stats(small_train_tasks),\n",
    "    'val': get_color_stats(val_tasks),\n",
    "    'small_val': get_color_stats(small_val_tasks),\n",
    "}\n",
    "\n",
    "for key, stats in color_stats.items():\n",
    "    print('%-10s' % key, end='\\t')\n",
    "    print(', '.join(map(str, [{color_id: stats[color_id]} for color_id in range(10)])))"
   ]
  },
  {
   "cell_type": "code",
   "execution_count": 7,
   "metadata": {},
   "outputs": [
    {
     "data": {
      "image/png": "[encoded data removed]",
      "text/plain": [
       "<Figure size 640x480 with 1 Axes>"
      ]
     },
     "metadata": {},
     "output_type": "display_data"
    }
   ],
   "source": [
    "color_map = ['B', 'BL', 'R', 'G', 'Y', 'G', 'M', 'O', 'S', 'BR']\n",
    "\n",
    "plt.bar(np.arange(10), [color_stats['train'][i] for i in range(10)], label='train', width=0.4)\n",
    "plt.bar(np.arange(10), [color_stats['small_train'][i] for i in range(10)], label='small train', width=0.4)\n",
    "\n",
    "plt.bar(np.arange(10) + 0.4, [color_stats['val'][i] for i in range(10)], label='val', width=0.4)\n",
    "plt.bar(np.arange(10) + 0.4, [color_stats['small_val'][i] for i in range(10)], label='small val', width=0.4)\n",
    "plt.xticks(ticks=np.arange(10) + 0.2, labels=color_map)\n",
    "plt.legend()\n",
    "\n",
    "plt.title('color frequencies of pixel from all boards', fontsize=14)\n",
    "plt.show()"
   ]
  },
  {
   "cell_type": "code",
   "execution_count": 8,
   "metadata": {},
   "outputs": [],
   "source": [
    "class SimpleTokenizer:\n",
    "    def __init__(self):\n",
    "        self.pixel_tokens = list(range(10))\n",
    "        self.in_out_sep_token = '[:]'\n",
    "        self.sep_token = '[SEP]'\n",
    "        self.mask_token = '[MASK]'\n",
    "        self.pad_token = '[PAD]'\n",
    "        self.special_tokens = [self.in_out_sep_token, self.sep_token, self.mask_token, self.pad_token]\n",
    "\n",
    "        self.token_to_id = {token: i for i, token in enumerate(self.pixel_tokens + self.special_tokens)}\n",
    "\n",
    "        self.id_to_token = {v: k for k, v in self.token_to_id.items()}\n",
    "\n",
    "        self.in_out_sep_token_id = self.token_to_id[self.in_out_sep_token]\n",
    "        self.sep_token_id = self.token_to_id[self.sep_token]\n",
    "        self.mask_token_id = self.token_to_id[self.mask_token]\n",
    "        self.pad_token_id = self.token_to_id[self.pad_token]\n",
    "\n",
    "    def encode(self, seq):\n",
    "        return [self.token_to_id[token] for token in seq]\n",
    "\n",
    "    def decode(self, ids):\n",
    "        return [self.id_to_token[i] for i in ids]\n",
    "\n",
    "    def __len__(self):\n",
    "        return len(self.token_to_id)\n",
    "\n",
    "\n",
    "tokenizer = SimpleTokenizer()"
   ]
  },
  {
   "cell_type": "code",
   "execution_count": 9,
   "metadata": {},
   "outputs": [],
   "source": [
    "def _prepare_input_seqs(task, train=True):\n",
    "    input_train_seq = []\n",
    "    for sample in task['train']:\n",
    "        input_train_seq += _flatten_board(sample['input'])\n",
    "        input_train_seq += [tokenizer.in_out_sep_token]\n",
    "        input_train_seq += _flatten_board(sample['output'])\n",
    "        input_train_seq += [tokenizer.sep_token]\n",
    "\n",
    "    input_test_seq = []\n",
    "\n",
    "    # there is single input for test\n",
    "    test_sample = task['test'][0]\n",
    "\n",
    "    input_test_seq += _flatten_board(test_sample['input'])\n",
    "    input_test_seq += [tokenizer.in_out_sep_token]\n",
    "\n",
    "    input_seq = input_train_seq + input_test_seq\n",
    "\n",
    "    if train:\n",
    "        assert test_sample['output'] is not None\n",
    "        target_seq = [tokenizer.pad_token for _ in range(len(input_seq))]\n",
    "        target_seq += _flatten_board(test_sample['output'])\n",
    "\n",
    "        input_seq += [tokenizer.pad_token for _ in range(len(target_seq) - len(input_seq))]\n",
    "        return {\n",
    "            'input': input_seq,\n",
    "            'target': target_seq,\n",
    "        }\n",
    "    else:\n",
    "        input_seq += [tokenizer.pad_token for _ in range(1000)]\n",
    "        return {\n",
    "            'input': input_seq,\n",
    "        }"
   ]
  },
  {
   "cell_type": "code",
   "execution_count": 10,
   "metadata": {},
   "outputs": [],
   "source": [
    "class ARCDataset(torch.utils.data.Dataset):\n",
    "    def _split_task_to_one_test_per_train(self, task):\n",
    "        if len(task['test']) == 1:\n",
    "            return [task]\n",
    "\n",
    "        common_train = task['train']\n",
    "        new_tasks = []\n",
    "        for sample in task['test']:\n",
    "            one_new_task = {'train': common_train, 'test': []}\n",
    "            one_new_task['test'] = [\n",
    "                {\n",
    "                    'input': sample['input'],\n",
    "                    'output': sample.get('output', None),\n",
    "                }\n",
    "            ]\n",
    "            new_tasks.append(one_new_task)\n",
    "        return new_tasks\n",
    "\n",
    "    def __init__(self, named_tasks, tokenizer, augment=True, train=True):\n",
    "        # split tasks to one out per input\n",
    "        keys = []\n",
    "        tasks = []\n",
    "        for key, task in named_tasks.items():\n",
    "            splitted_tasks = self._split_task_to_one_test_per_train(task)\n",
    "\n",
    "            tasks.extend(splitted_tasks)\n",
    "            keys.extend([key for _ in splitted_tasks])\n",
    "\n",
    "        self.keys = keys\n",
    "        self.tasks = tasks\n",
    "\n",
    "        self.tokenizer = tokenizer\n",
    "        self.augment = augment\n",
    "        self.train = train\n",
    "\n",
    "    def __len__(self):\n",
    "        return len(self.keys)\n",
    "\n",
    "    def __getitem__(self, idx):\n",
    "        # outputs list of items per call\n",
    "\n",
    "        key = self.keys[idx]\n",
    "        task = self.tasks[idx]\n",
    "\n",
    "        if self.augment:\n",
    "            augmented_task, augmentation = apply_random_augmentation(task)\n",
    "            augmented_key = key + '|' + augmentation.__name__\n",
    "        else:\n",
    "            augmented_task = task\n",
    "            augmented_key = (key + '|' + 'identity')\n",
    "\n",
    "        input_seqeunce = _prepare_input_seqs(augmented_task, train=self.train)\n",
    "\n",
    "        input_tokens = {k: self.tokenizer.encode(s) for k, s in input_seqeunce.items()}\n",
    "\n",
    "        return augmented_key, input_tokens\n",
    "\n",
    "\n",
    "val_dataset = ARCDataset(val_tasks, tokenizer, augment=False, train=False)\n",
    "small_val_dataset = ARCDataset(small_val_tasks, tokenizer, augment=False, train=False)"
   ]
  },
  {
   "cell_type": "code",
   "execution_count": 11,
   "metadata": {},
   "outputs": [],
   "source": [
    "def get_lengths(dataset):\n",
    "    lengths = []\n",
    "    for _, sample in dataset:\n",
    "        lengths.append(len(sample['input']))\n",
    "    return lengths\n",
    "\n",
    "\n",
    "val_lengths = get_lengths(val_dataset)\n",
    "small_val_lengths = get_lengths(small_val_dataset)"
   ]
  },
  {
   "cell_type": "code",
   "execution_count": 12,
   "metadata": {},
   "outputs": [
    {
     "data": {
      "image/png": "[encoded data removed]",
      "text/plain": [
       "<Figure size 640x480 with 1 Axes>"
      ]
     },
     "metadata": {},
     "output_type": "display_data"
    }
   ],
   "source": [
    "bins = np.linspace(min(val_lengths), max(val_lengths), num=100)\n",
    "\n",
    "plt.hist(val_lengths, bins=bins, label='val', color='orchid')\n",
    "plt.hist(small_val_lengths, bins=bins, label='small val', color='purple')\n",
    "plt.legend()\n",
    "\n",
    "plt.title(\"histogram of val samples' lengths\")\n",
    "\n",
    "plt.show()"
   ]
  },
  {
   "cell_type": "markdown",
   "metadata": {},
   "source": [
    "# re arc sampled dataset"
   ]
  },
  {
   "cell_type": "code",
   "execution_count": 13,
   "metadata": {},
   "outputs": [],
   "source": [
    "class ReARCSampledDataset(torch.utils.data.Dataset):\n",
    "    def __init__(self, datapath, tokenizer, augment=True):\n",
    "        print('loading data.', end=' ')\n",
    "        with open(datapath, 'rb') as f:\n",
    "            data = pickle.load(f)\n",
    "        print('done')\n",
    "\n",
    "        self.data = data\n",
    "\n",
    "        keys = []\n",
    "        samples = []\n",
    "        for task_key, task_samples in data.items():\n",
    "            keys.extend([task_key for _ in range(len(task_samples))])\n",
    "            samples.extend(task_samples)\n",
    "        self.keys = keys\n",
    "        self.samples = samples\n",
    "\n",
    "        self.tokenizer = tokenizer\n",
    "        self.augment = augment\n",
    "\n",
    "    def __len__(self):\n",
    "        return len(self.samples)\n",
    "\n",
    "    def __getitem__(self, idx):\n",
    "        key = self.keys[idx]\n",
    "        sample = self.samples[idx]\n",
    "\n",
    "        if self.augment:\n",
    "            augmented_sample, augmentation = apply_random_augmentation(sample)\n",
    "            augmented_key = key + '|' + augmentation.__name__\n",
    "        else:\n",
    "            augmented_sample = sample\n",
    "            augmented_key = (key + '|' + 'identity')\n",
    "\n",
    "        input_seqeunce = _prepare_input_seqs(augmented_sample, train=True)\n",
    "\n",
    "        input_tokens = {k: self.tokenizer.encode(s) for k, s in input_seqeunce.items()}\n",
    "\n",
    "        return augmented_key, input_tokens"
   ]
  },
  {
   "cell_type": "code",
   "execution_count": 14,
   "metadata": {},
   "outputs": [
    {
     "name": "stdout",
     "output_type": "stream",
     "text": [
      "loading data. done\n",
      "num train samples: 1000000\n",
      "num small train samples: 1000000\n"
     ]
    }
   ],
   "source": [
    "train_dataset = ReARCSampledDataset('data/rearc1M.pkl', tokenizer, augment=False)\n",
    "\n",
    "small_train_dataset_ids = [i for i, (_, input_tokens) in enumerate(train_dataset) if len(input_tokens['input']) < 2500]\n",
    "\n",
    "small_train_dataset = torch.utils.data.Subset(train_dataset, small_train_dataset_ids)\n",
    "\n",
    "print('num train samples:', len(train_dataset))\n",
    "print('num small train samples:', len(small_train_dataset))"
   ]
  },
  {
   "cell_type": "code",
   "execution_count": 19,
   "metadata": {},
   "outputs": [
    {
     "name": "stdout",
     "output_type": "stream",
     "text": [
      "train     \t{0: 260017}, {1: 267628}, {2: 290463}, {3: 261667}, {4: 244186}, {5: 221084}, {6: 218930}, {7: 214305}, {8: 250177}, {9: 209910}\n"
     ]
    }
   ],
   "source": [
    "def get_color_stats_re(samples):\n",
    "    c = Counter()\n",
    "    for task_samples in samples:\n",
    "        c.update(set(_flatten_board(task_samples['test'][0]['output'])))\n",
    "    return c\n",
    "\n",
    "\n",
    "color_stats = {\n",
    "    'train': get_color_stats_re(train_dataset.samples),\n",
    "    # 'small_train': get_color_stats([train_dataset.samples[idx] for idx in small_train_dataset_ids]),\n",
    "}\n",
    "\n",
    "for key, stats in color_stats.items():\n",
    "    print('%-10s' % key, end='\\t')\n",
    "    print(', '.join(map(str, [{color_id: stats[color_id]} for color_id in range(10)])))"
   ]
  },
  {
   "cell_type": "code",
   "execution_count": 21,
   "metadata": {},
   "outputs": [
    {
     "data": {
      "image/png": "[encoded data removed]",
      "text/plain": [
       "<Figure size 640x480 with 1 Axes>"
      ]
     },
     "metadata": {},
     "output_type": "display_data"
    }
   ],
   "source": [
    "color_map = ['B', 'BL', 'R', 'G', 'Y', 'G', 'M', 'O', 'S', 'BR']\n",
    "\n",
    "plt.bar(np.arange(10), [color_stats['train'][i] for i in range(10)], color='royalblue')\n",
    "plt.xticks(ticks=np.arange(10), labels=color_map)\n",
    "\n",
    "plt.title('color frequencies of pixel from re arc train dataset', fontsize=14)\n",
    "plt.show()"
   ]
  },
  {
   "cell_type": "code",
   "execution_count": 22,
   "metadata": {},
   "outputs": [],
   "source": [
    "train_lengths = get_lengths(train_dataset)\n",
    "# small_train_lengths = get_lengths(small_train_dataset)"
   ]
  },
  {
   "cell_type": "code",
   "execution_count": 23,
   "metadata": {},
   "outputs": [
    {
     "data": {
      "image/png": "[encoded data removed]",
      "text/plain": [
       "<Figure size 640x480 with 1 Axes>"
      ]
     },
     "metadata": {},
     "output_type": "display_data"
    }
   ],
   "source": [
    "bins = np.linspace(min(train_lengths), max(train_lengths), num=100)\n",
    "\n",
    "plt.hist(train_lengths, bins=bins, color='royalblue')\n",
    "# plt.hist(small_train_lengths, bins=bins, label='small train', color='mediumblue')\n",
    "# plt.legend()\n",
    "\n",
    "plt.title(\"histogram of train samples' lengths\")\n",
    "\n",
    "plt.show()"
   ]
  },
  {
   "cell_type": "code",
   "execution_count": 24,
   "metadata": {},
   "outputs": [
    {
     "data": {
      "text/plain": [
       "2783"
      ]
     },
     "execution_count": 24,
     "metadata": {},
     "output_type": "execute_result"
    }
   ],
   "source": [
    "max(train_lengths)"
   ]
  }
 ],
 "metadata": {
  "kernelspec": {
   "display_name": "Python 3",
   "language": "python",
   "name": "python3"
  },
  "language_info": {
   "codemirror_mode": {
    "name": "ipython",
    "version": 3
   },
   "file_extension": ".py",
   "mimetype": "text/x-python",
   "name": "python",
   "nbconvert_exporter": "python",
   "pygments_lexer": "ipython3",
   "version": "3.8.10"
  }
 },
 "nbformat": 4,
 "nbformat_minor": 2
}
